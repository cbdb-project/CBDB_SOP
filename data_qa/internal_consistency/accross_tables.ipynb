{
 "cells": [
  {
   "cell_type": "code",
   "execution_count": 20,
   "metadata": {
    "collapsed": true
   },
   "outputs": [],
   "source": [
    "import pandas as pd\n",
    "import sqlite3\n",
    "from tqdm import tqdm"
   ]
  },
  {
   "cell_type": "markdown",
   "metadata": {},
   "source": [
    "### Primary key values.\n",
    "\n",
    "This section will find if the value of a primary key in a table is recorded by corresponding primary table. For example, `c_personid=8547` in table `ASSOC_DATA` may not be in its corresponding primary table `BIOG_MAIN`. The program will iterate all the tables and report values like this."
   ]
  },
  {
   "cell_type": "code",
   "execution_count": 26,
   "metadata": {
    "collapsed": true
   },
   "outputs": [],
   "source": [
    "''' Define variables to be checked '''\n",
    "primary_key_table='BIOG_MAIN' # Define the primary table.\n",
    "primary_key_name='c_personid' # Define the primary key.\n",
    "conn = sqlite3.connect('../../cbdb_release/20170424CBDBauUserSqlite.db') # Define the source of database file."
   ]
  },
  {
   "cell_type": "code",
   "execution_count": 27,
   "metadata": {
    "scrolled": true
   },
   "outputs": [
    {
     "name": "stderr",
     "output_type": "stream",
     "text": [
      "100%|██████████| 85/85 [00:26<00:00,  3.20it/s]\n"
     ]
    }
   ],
   "source": [
    "%%capture captured --no-stderr\n",
    "table_list=pd.read_sql_query(\"SELECT name FROM sqlite_master\", conn)\n",
    "print(primary_key_name+'\\t'+'table')\n",
    "df_primary=pd.read_sql_query(\"SELECT * FROM \"+primary_key_table, conn).set_index(primary_key_name)\n",
    "for table in tqdm(table_list['name']):\n",
    "    df_table=pd.read_sql_query(\"SELECT * FROM \"+table, conn)\n",
    "    if primary_key_name in df_table.columns:\n",
    "        for value in set(df_table[primary_key_name]):\n",
    "            if value not in df_primary.index:\n",
    "                print(str(value)+'\\t'+table)"
   ]
  },
  {
   "cell_type": "code",
   "execution_count": 28,
   "metadata": {
    "collapsed": true
   },
   "outputs": [],
   "source": [
    "with open('../../output_bin/'+'inconsist'+'-'+primary_key_name+'-'+primary_key_table+'.txt', 'w', encoding='utf8') as f:\n",
    "    f.write(captured.stdout)"
   ]
  },
  {
   "cell_type": "code",
   "execution_count": null,
   "metadata": {
    "collapsed": true
   },
   "outputs": [],
   "source": []
  }
 ],
 "metadata": {
  "kernelspec": {
   "display_name": "Python 3",
   "language": "python",
   "name": "python3"
  },
  "language_info": {
   "codemirror_mode": {
    "name": "ipython",
    "version": 3
   },
   "file_extension": ".py",
   "mimetype": "text/x-python",
   "name": "python",
   "nbconvert_exporter": "python",
   "pygments_lexer": "ipython3",
   "version": "3.6.3"
  },
  "toc": {
   "colors": {
    "hover_highlight": "#DAA520",
    "running_highlight": "#FF0000",
    "selected_highlight": "#FFD700"
   },
   "moveMenuLeft": true,
   "nav_menu": {
    "height": "30px",
    "width": "252px"
   },
   "navigate_menu": true,
   "number_sections": true,
   "sideBar": true,
   "threshold": 4,
   "toc_cell": false,
   "toc_section_display": "block",
   "toc_window_display": false
  }
 },
 "nbformat": 4,
 "nbformat_minor": 2
}
